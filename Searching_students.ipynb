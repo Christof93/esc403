{
 "cells": [
  {
   "cell_type": "markdown",
   "metadata": {
    "collapsed": true
   },
   "source": [
    "#   Big Data\n",
    "## Algorithms: Searching, Recursion and Data Structures\n",
    "## Victor P. Debattista March 2017\n",
    "\n",
    "\n",
    "Welcome to the second lecture on algorithms and data structures.  This one focusses on Searching, especially on trees and hashes"
   ]
  },
  {
   "cell_type": "code",
   "execution_count": 1,
   "metadata": {
    "collapsed": false
   },
   "outputs": [],
   "source": [
    "import numpy as np\n",
    "import math\n",
    "import random\n",
    "import time"
   ]
  },
  {
   "cell_type": "markdown",
   "metadata": {},
   "source": [
    "We are going to adapt some code from the sorting exercise.  We want to create two lists of N numbers which we will use as our list for storing and searching.  One of our lists has uniformly random numbers, the other has a Gaussian (normal/Bell curve) distribution"
   ]
  },
  {
   "cell_type": "code",
   "execution_count": 2,
   "metadata": {
    "collapsed": false
   },
   "outputs": [
    {
     "name": "stdout",
     "output_type": "stream",
     "text": [
      "[9582.093798172727, 1403.685900763948, 236.1614713882554, 9986.306536729146, 1842.5364570285308, 1205.9206321532502, 6514.212405579194, 3456.448375625667, 8895.509397958029, 2317.41489986076]\n",
      "[106.56352441703974, 83.06204051851174, 97.72317951378805, 94.90001125530982, 111.84861372758255, 100.46635043274102, 121.02415209063571, 101.4950788229926, 136.49669588669343, 63.16267547503758]\n"
     ]
    }
   ],
   "source": [
    "random.seed(22)\n",
    "N = 10000\n",
    "#N = 10\n",
    "\n",
    "# data1 is uniformly distributed\n",
    "data1 = []\n",
    "for i in range(N):\n",
    "    data1.append(random.uniform(0.,10000.))\n",
    "print(data1[0:10])\n",
    "\n",
    "# data2 is distributed as a Gaussian with average = 100 and sigma = 20\n",
    "data2 = []\n",
    "for i in range(N):\n",
    "    data2.append(random.normalvariate(100.,20.))\n",
    "print(data2[0:10])"
   ]
  },
  {
   "cell_type": "markdown",
   "metadata": {},
   "source": [
    "We are going to experiment with open hashing, which we will implement as a list of lists in Python, akin to how we did a BinSort in week 1."
   ]
  },
  {
   "cell_type": "code",
   "execution_count": 3,
   "metadata": {
    "collapsed": true
   },
   "outputs": [],
   "source": [
    "def InitHash(nbins):\n",
    "    htable = []    # this is the empty has table\n",
    "    for i in range(0,nbins):\n",
    "        htable.append([])\n",
    "    return htable"
   ]
  },
  {
   "cell_type": "markdown",
   "metadata": {},
   "source": [
    "We want to define a few functions to determine some statistics of our has table occupation.  We want three quantities, the minimum entires, the maximum entries, and the average entries."
   ]
  },
  {
   "cell_type": "code",
   "execution_count": 4,
   "metadata": {
    "collapsed": false
   },
   "outputs": [],
   "source": []
  },
  {
   "cell_type": "markdown",
   "metadata": {},
   "source": [
    "From last week's BinSort exercise, let's borrow the indexing function: given a value which is within a given range [lo,hi], finds the bin to place the element into if there are N bins.  If the value is out of range some flag value should be returned.  This will be the basis of our hash function"
   ]
  },
  {
   "cell_type": "code",
   "execution_count": 5,
   "metadata": {
    "collapsed": true
   },
   "outputs": [],
   "source": [
    "def bin_index(val,lo,hi,N):\n",
    "# start with the sanity check that val satisfies lo <= val <= hi, else have a flag\n",
    "    if( (val < lo) or (val > hi) ):\n",
    "        tmp = -1\n",
    "    else: \n",
    "        tmp = (val - lo) * N/(hi-lo)\n",
    "    a = int(tmp)\n",
    "    return a"
   ]
  },
  {
   "cell_type": "markdown",
   "metadata": {},
   "source": [
    "For convenience let's add a function that takes a list, a hash function and number of buckets and hashes it"
   ]
  },
  {
   "cell_type": "code",
   "execution_count": 6,
   "metadata": {
    "collapsed": true
   },
   "outputs": [],
   "source": []
  },
  {
   "cell_type": "code",
   "execution_count": 7,
   "metadata": {
    "collapsed": false
   },
   "outputs": [
    {
     "name": "stdout",
     "output_type": "stream",
     "text": [
      "0 0.2 4\n",
      "0 0.2 57\n"
     ]
    }
   ],
   "source": [
    "# first compute statistics if the numbers are uniform\n",
    "hashTable = Hashify(data1,bin_index,0.,10000.,50000)\n",
    "minbin1,avgbin1,maxbin1 = HashStats(hashTable,50000)\n",
    "print(minbin1,avgbin1,maxbin1)\n",
    "\n",
    "# now compute statistics if the data are more bunched\n",
    "hashTable = Hashify(data2,bin_index,0,10000.,50000)\n",
    "minbin2,avgbin2,maxbin2 = HashStats(hashTable,50000)\n",
    "print(minbin2,avgbin2,maxbin2)\n"
   ]
  },
  {
   "cell_type": "markdown",
   "metadata": {
    "collapsed": true
   },
   "source": [
    "So this is not very satisfying, our hash function is causing a lot of collisions, which are going to slow down our searches.  Develop a new hash function and compare it with the one above."
   ]
  },
  {
   "cell_type": "markdown",
   "metadata": {
    "collapsed": false
   },
   "source": [
    "Here we're going to define a new hash function based on inverting the order of digits"
   ]
  },
  {
   "cell_type": "code",
   "execution_count": 10,
   "metadata": {
    "collapsed": true
   },
   "outputs": [],
   "source": []
  },
  {
   "cell_type": "code",
   "execution_count": 11,
   "metadata": {
    "collapsed": false
   },
   "outputs": [
    {
     "name": "stdout",
     "output_type": "stream",
     "text": [
      "0 0.2 11\n",
      "0 0.2 229\n"
     ]
    }
   ],
   "source": [
    "# first compute statistics if the numbers are uniform\n",
    "hashTable = Hashify(data1,hash_fun2,0.,10000.,50000)\n",
    "minbin1,avgbin1,maxbin1 = HashStats(hashTable,50000)\n",
    "print(minbin1,avgbin1,maxbin1)\n",
    "\n",
    "# now compute statistics if the data are more bunched\n",
    "hashTable = Hashify(data2,hash_fun2,0.,10000.,50000)\n",
    "minbin2,avgbin2,maxbin2 = HashStats(hashTable,50000)\n",
    "print(minbin2,avgbin2,maxbin2)"
   ]
  },
  {
   "cell_type": "markdown",
   "metadata": {
    "collapsed": false
   },
   "source": [
    "So we still have too many collisions.  Need to try a different approach.  In the next hashing we're going to use those digits after the decimal point for our hashing"
   ]
  },
  {
   "cell_type": "code",
   "execution_count": 12,
   "metadata": {
    "collapsed": true
   },
   "outputs": [],
   "source": []
  },
  {
   "cell_type": "code",
   "execution_count": 13,
   "metadata": {
    "collapsed": false
   },
   "outputs": [
    {
     "name": "stdout",
     "output_type": "stream",
     "text": [
      "0 0.2 4\n",
      "0 0.2 4\n"
     ]
    }
   ],
   "source": [
    "# first compute statistics if the numbers are uniform\n",
    "hashTable = Hashify(data1,hash_fun3,0.,10000.,50000)\n",
    "minbin1,avgbin1,maxbin1 = HashStats(hashTable,50000)\n",
    "print(minbin1,avgbin1,maxbin1)\n",
    "\n",
    "# now compute statistics if the data are more bunched\n",
    "hashTable = Hashify(data2,hash_fun3,0.,10000.,50000)\n",
    "minbin2,avgbin2,maxbin2 = HashStats(hashTable,50000)\n",
    "print(minbin2,avgbin2,maxbin2)"
   ]
  },
  {
   "cell_type": "markdown",
   "metadata": {
    "collapsed": true
   },
   "source": [
    "Let us now develop the functionality for a binary search tree.  Since this involves defining some classes, we develop that here before moving on to some questions.  We start by developing the class Node, which is the basic nodes of a binary tree"
   ]
  },
  {
   "cell_type": "code",
   "execution_count": 14,
   "metadata": {
    "collapsed": true
   },
   "outputs": [],
   "source": [
    "class Node:\n",
    "    def __init__(self,val):\n",
    "# on initialisation, set to no children and value to input\n",
    "        self.l = None\n",
    "        self.r = None\n",
    "        self.v = val"
   ]
  },
  {
   "cell_type": "markdown",
   "metadata": {
    "collapsed": true
   },
   "source": [
    "Now we need to build the Tree class.  We build the functionality for inserting and finding"
   ]
  },
  {
   "cell_type": "code",
   "execution_count": 15,
   "metadata": {
    "collapsed": false
   },
   "outputs": [],
   "source": [
    "class Tree:\n",
    "    def __init__(self):\n",
    "        self.root = None\n",
    "    \n",
    "    def add(self,val):\n",
    "        if( self.root == None ):\n",
    "            self.root = Node(val)\n",
    "        else:\n",
    "            self._add(val,self.root)\n",
    "    \n",
    "    def _add(self,val,node):\n",
    "        if( val < node.v ):\n",
    "            if( node.l is not None ):\n",
    "                self._add(val,node.l)\n",
    "            else:\n",
    "                node.l = Node(val)\n",
    "        else:\n",
    "            if( node.r is not None ):\n",
    "                self._add(val,node.r)\n",
    "            else:\n",
    "                node.r = Node(val)\n",
    "                \n",
    "    def find(self, val):\n",
    "        if(self.root != None):\n",
    "            return self._find(val, self.root)\n",
    "        else:\n",
    "            return None\n",
    "    \n",
    "    def _find(self,val,node):\n",
    "        if( val == node.v ):\n",
    "            return node\n",
    "        elif( val < node.v and node.l is not None ):\n",
    "            return self._find(val,node.l)\n",
    "        elif( val > node.v and node.r is not None ):\n",
    "            return self._find(val,node.r)\n",
    "        "
   ]
  },
  {
   "cell_type": "code",
   "execution_count": 16,
   "metadata": {
    "collapsed": false
   },
   "outputs": [
    {
     "name": "stdout",
     "output_type": "stream",
     "text": [
      "4\n"
     ]
    }
   ],
   "source": [
    "# And here are some examples on how to use this functionality\n",
    "bst = Tree()\n",
    "bst.add(3)\n",
    "bst.add(4)\n",
    "bst.find(4)\n",
    "print(bst.root.r.v)"
   ]
  },
  {
   "cell_type": "markdown",
   "metadata": {},
   "source": [
    "OK with this build two BST called \"tr\" with the elements of data1 generated at the top of this exercise (you can try it with data2 also)"
   ]
  },
  {
   "cell_type": "code",
   "execution_count": 17,
   "metadata": {
    "collapsed": false
   },
   "outputs": [],
   "source": [
    "tr = Tree()\n",
    "for val in data1[0:10]:\n",
    "#for val in data1:\n",
    "    tr.add(val)"
   ]
  },
  {
   "cell_type": "markdown",
   "metadata": {},
   "source": [
    "Returning to the Tree class definition above, add methods for computing the number of values stored, the maximum and minimum distance to all leaves, the number of leaves and an Inorder listing of the tree.  Once you have that compute the following (during debugging work with only 10 elements of data1, i.e. data1[0:10], by uncommenting the appropriate line above and commenting the one below it"
   ]
  },
  {
   "cell_type": "code",
   "execution_count": 18,
   "metadata": {
    "collapsed": false
   },
   "outputs": [
    {
     "name": "stdout",
     "output_type": "stream",
     "text": [
      "Total number of nodes in tree = 10\n",
      "Minimum depth = 2\n",
      "Maximum depth = 6\n",
      "Total number of leaves = 4\n",
      "236.1614713882554\n",
      "1205.9206321532502\n",
      "1403.685900763948\n",
      "1842.5364570285308\n",
      "2317.41489986076\n",
      "3456.448375625667\n",
      "6514.212405579194\n",
      "8895.509397958029\n",
      "9582.093798172727\n",
      "9986.306536729146\n"
     ]
    }
   ],
   "source": [
    "print('Total number of nodes in tree =',tr.count_nodes(tr.root))\n",
    "print('Minimum depth =',tr.depth(tr.root,min))\n",
    "print('Maximum depth =',tr.depth(tr.root,max))\n",
    "print('Total number of leaves =',tr.count_leaves(tr.root))\n",
    "tr.inorder(tr.root)"
   ]
  }
 ],
 "metadata": {
  "anaconda-cloud": {},
  "kernelspec": {
   "display_name": "Python [default]",
   "language": "python",
   "name": "python3"
  },
  "language_info": {
   "codemirror_mode": {
    "name": "ipython",
    "version": 3
   },
   "file_extension": ".py",
   "mimetype": "text/x-python",
   "name": "python",
   "nbconvert_exporter": "python",
   "pygments_lexer": "ipython3",
   "version": "3.5.2"
  }
 },
 "nbformat": 4,
 "nbformat_minor": 1
}
