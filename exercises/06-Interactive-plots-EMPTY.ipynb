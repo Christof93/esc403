{
 "cells": [
  {
   "cell_type": "markdown",
   "metadata": {},
   "source": [
    "# Preparing the environment"
   ]
  },
  {
   "cell_type": "markdown",
   "metadata": {},
   "source": [
    "## Graphics and plotting"
   ]
  },
  {
   "cell_type": "markdown",
   "metadata": {},
   "source": [
    "The following block of code initializes the Python plotting library [matplotlib](http://matplotlib.org/gallery.html) and configures it to show figures embedded in the notebook (as opposed to opening a new window for each figure):"
   ]
  },
  {
   "cell_type": "code",
   "execution_count": 1,
   "metadata": {
    "collapsed": true
   },
   "outputs": [],
   "source": [
    "%matplotlib inline\n",
    "\n",
    "import matplotlib\n",
    "import matplotlib.pyplot as plt"
   ]
  },
  {
   "cell_type": "markdown",
   "metadata": {},
   "source": [
    "The Seaborn library provides easy-to-use plotting functions for common plot types, and better default visual styles."
   ]
  },
  {
   "cell_type": "code",
   "execution_count": 2,
   "metadata": {
    "collapsed": true
   },
   "outputs": [],
   "source": [
    "import seaborn as sea"
   ]
  },
  {
   "cell_type": "markdown",
   "metadata": {},
   "source": [
    "Set the default size and style of the plot.  (Plots are styled to [look like R's `ggplot`](http://tonysyu.github.io/mpltools/auto_examples/style/plot_ggplot.html) library.)"
   ]
  },
  {
   "cell_type": "code",
   "execution_count": 3,
   "metadata": {
    "collapsed": true
   },
   "outputs": [],
   "source": [
    "matplotlib.rcParams['figure.figsize'] = (10, 7)\n",
    "\n",
    "sea.set_style('dark')"
   ]
  },
  {
   "cell_type": "markdown",
   "metadata": {},
   "source": [
    "Also make the NumPy library available (without it, some features of Matplotlib and -especially- Seaborn) will *not* work:"
   ]
  },
  {
   "cell_type": "code",
   "execution_count": 4,
   "metadata": {
    "collapsed": true
   },
   "outputs": [],
   "source": [
    "import numpy as np"
   ]
  },
  {
   "cell_type": "markdown",
   "metadata": {},
   "source": [
    "## SQL database connection"
   ]
  },
  {
   "cell_type": "markdown",
   "metadata": {},
   "source": [
    "The ESC403 cluster comes preinstalled with [Catherine Devlin's `%sql`-magic for IPython][1]; this allows you to run SQL queries from the IPython notebook, and intermix them with Python code.\n",
    "\n",
    "[1]: https://github.com/catherinedevlin/ipython-sql"
   ]
  },
  {
   "cell_type": "markdown",
   "metadata": {},
   "source": [
    "Before we can use the `%sql` syntax, two steps must be taken:\n",
    "\n",
    "* Load the IPython-SQL bridge code"
   ]
  },
  {
   "cell_type": "code",
   "execution_count": 5,
   "metadata": {
    "collapsed": false
   },
   "outputs": [],
   "source": [
    "%load_ext sql"
   ]
  },
  {
   "cell_type": "markdown",
   "metadata": {},
   "source": [
    "* Connect to an actual database; this must be the first `%sql` statement (the `rmurri@/equidistantpoints` syntax means \"connect to the PostGreSQL DB named `equidistantpoints` running on *this* host as user `rmurri`\" -- of course change `rmurri` to *your* user name):"
   ]
  },
  {
   "cell_type": "code",
   "execution_count": 6,
   "metadata": {
    "collapsed": false
   },
   "outputs": [
    {
     "data": {
      "text/plain": [
       "u'Connected: chrble@equidistantpoints'"
      ]
     },
     "execution_count": 6,
     "metadata": {},
     "output_type": "execute_result"
    }
   ],
   "source": [
    "%sql postgresql://chrble@/equidistantpoints"
   ]
  },
  {
   "cell_type": "markdown",
   "metadata": {},
   "source": [
    "This database contains the [Equidistant Geographic Grid Points and Modern Climate](http://mypage.iu.edu/~pdpolly/Data.html) dataset (this the \"extended North American data\" in the words of the source website), see the [original publication](http://mypage.iu.edu/~pdpolly/Data.html) for details."
   ]
  },
  {
   "cell_type": "markdown",
   "metadata": {},
   "source": [
    "We are going to use only the \"temperature\" table in the following. (But feel free to experiment with the others!)"
   ]
  },
  {
   "cell_type": "code",
   "execution_count": 7,
   "metadata": {
    "collapsed": false
   },
   "outputs": [
    {
     "name": "stdout",
     "output_type": "stream",
     "text": [
      "3 rows affected.\n"
     ]
    },
    {
     "data": {
      "text/html": [
       "<table>\n",
       "    <tr>\n",
       "        <th>id</th>\n",
       "        <th>longitude</th>\n",
       "        <th>latitude</th>\n",
       "        <th>jan</th>\n",
       "        <th>feb</th>\n",
       "        <th>mar</th>\n",
       "        <th>apr</th>\n",
       "        <th>may</th>\n",
       "        <th>jun</th>\n",
       "        <th>jul</th>\n",
       "        <th>aug</th>\n",
       "        <th>sep</th>\n",
       "        <th>oct</th>\n",
       "        <th>nov</th>\n",
       "        <th>dec</th>\n",
       "        <th>ann</th>\n",
       "    </tr>\n",
       "    <tr>\n",
       "        <td>6</td>\n",
       "        <td>-79.46900</td>\n",
       "        <td>82.81348</td>\n",
       "        <td>-35.00000</td>\n",
       "        <td>-37.00000</td>\n",
       "        <td>-33.00000</td>\n",
       "        <td>-24.90000</td>\n",
       "        <td>-10.00000</td>\n",
       "        <td>0.30000</td>\n",
       "        <td>3.30000</td>\n",
       "        <td>1.40000</td>\n",
       "        <td>-9.00000</td>\n",
       "        <td>-20.70000</td>\n",
       "        <td>-28.80000</td>\n",
       "        <td>-32.50000</td>\n",
       "        <td>-18.90000</td>\n",
       "    </tr>\n",
       "    <tr>\n",
       "        <td>7</td>\n",
       "        <td>-75.87860</td>\n",
       "        <td>82.81348</td>\n",
       "        <td>-35.00000</td>\n",
       "        <td>-37.10000</td>\n",
       "        <td>-32.80000</td>\n",
       "        <td>-24.70000</td>\n",
       "        <td>-9.90000</td>\n",
       "        <td>0.10000</td>\n",
       "        <td>3.30000</td>\n",
       "        <td>1.40000</td>\n",
       "        <td>-9.20000</td>\n",
       "        <td>-20.90000</td>\n",
       "        <td>-28.80000</td>\n",
       "        <td>-32.30000</td>\n",
       "        <td>-18.80000</td>\n",
       "    </tr>\n",
       "    <tr>\n",
       "        <td>8</td>\n",
       "        <td>-72.28820</td>\n",
       "        <td>82.81348</td>\n",
       "        <td>-34.90000</td>\n",
       "        <td>-36.90000</td>\n",
       "        <td>-32.70000</td>\n",
       "        <td>-24.60000</td>\n",
       "        <td>-9.90000</td>\n",
       "        <td>-0.10000</td>\n",
       "        <td>3.20000</td>\n",
       "        <td>1.30000</td>\n",
       "        <td>-9.50000</td>\n",
       "        <td>-20.90000</td>\n",
       "        <td>-28.80000</td>\n",
       "        <td>-32.00000</td>\n",
       "        <td>-18.80000</td>\n",
       "    </tr>\n",
       "</table>"
      ],
      "text/plain": [
       "[(6, Decimal('-79.46900'), Decimal('82.81348'), Decimal('-35.00000'), Decimal('-37.00000'), Decimal('-33.00000'), Decimal('-24.90000'), Decimal('-10.00000'), Decimal('0.30000'), Decimal('3.30000'), Decimal('1.40000'), Decimal('-9.00000'), Decimal('-20.70000'), Decimal('-28.80000'), Decimal('-32.50000'), Decimal('-18.90000')),\n",
       " (7, Decimal('-75.87860'), Decimal('82.81348'), Decimal('-35.00000'), Decimal('-37.10000'), Decimal('-32.80000'), Decimal('-24.70000'), Decimal('-9.90000'), Decimal('0.10000'), Decimal('3.30000'), Decimal('1.40000'), Decimal('-9.20000'), Decimal('-20.90000'), Decimal('-28.80000'), Decimal('-32.30000'), Decimal('-18.80000')),\n",
       " (8, Decimal('-72.28820'), Decimal('82.81348'), Decimal('-34.90000'), Decimal('-36.90000'), Decimal('-32.70000'), Decimal('-24.60000'), Decimal('-9.90000'), Decimal('-0.10000'), Decimal('3.20000'), Decimal('1.30000'), Decimal('-9.50000'), Decimal('-20.90000'), Decimal('-28.80000'), Decimal('-32.00000'), Decimal('-18.80000'))]"
      ]
     },
     "execution_count": 7,
     "metadata": {},
     "output_type": "execute_result"
    }
   ],
   "source": [
    "%sql select * from natempwilmott limit 3;"
   ]
  },
  {
   "cell_type": "markdown",
   "metadata": {},
   "source": [
    "----"
   ]
  },
  {
   "cell_type": "markdown",
   "metadata": {},
   "source": [
    "# Interactive plotting\n",
    "\n",
    "Jupyter/IPython provides facilities for making interactive visualizations in the notebook.\n",
    "\n",
    "The general schema for making an interactive visualization is:\n",
    "\n",
    "1. Make a function that takes the interactively-settable parameters as arguments, and returns a \"plot\" (or any other object that can be shown in the notebook).\n",
    "2. Decorate this function with the `@interact` annotation, providing initial values for all interactively-settable parameters."
   ]
  },
  {
   "cell_type": "markdown",
   "metadata": {},
   "source": [
    "All relevant code lives in Python module `ipywidgets`:"
   ]
  },
  {
   "cell_type": "code",
   "execution_count": 46,
   "metadata": {
    "collapsed": false
   },
   "outputs": [],
   "source": [
    "from ipywidgets import *"
   ]
  },
  {
   "cell_type": "markdown",
   "metadata": {},
   "source": [
    "The following example shows how to create an interactive sine wave plot (see [here](http://earthpy.org/pyncview_pm.html)).  Note how IPython automatically detects the parameter type and uses a slider to set floating-point values and a text-box for the `color` parameter:"
   ]
  },
  {
   "cell_type": "code",
   "execution_count": 8,
   "metadata": {
    "collapsed": false
   },
   "outputs": [
    {
     "data": {
      "text/plain": [
       "<matplotlib.axes._subplots.AxesSubplot at 0x7f89a5675e90>"
      ]
     },
     "metadata": {},
     "output_type": "display_data"
    },
    {
     "data": {
      "image/png": "[encoded data removed]",
      "text/plain": [
       "<matplotlib.figure.Figure at 0x7f89a5f88410>"
      ]
     },
     "metadata": {},
     "output_type": "display_data"
    }
   ],
   "source": [
    "@interact(freq=1.0, amp=1.0, color='blue')\n",
    "def wave(freq, amp, color):\n",
    "    xs = np.linspace(-np.pi, +np.pi, 200)\n",
    "    ys = np.sin(2*np.pi*freq*xs) * amp\n",
    "    ax = plt.gca()\n",
    "    ax.plot(xs, ys, color=color)\n",
    "    ax.set_ylim([-5., +5.])\n",
    "    return ax"
   ]
  },
  {
   "cell_type": "markdown",
   "metadata": {},
   "source": [
    "However, with auto-detection we cannot constrain the input values: e.g., we cannot set the valid range of inputs, nor restrict the color selection.  It is possible to explicitly instanciate the widget to use for setting a parameter from a [large Widget list](http://ipywidgets.readthedocs.io/en/stable/examples/Widget%20List.html)."
   ]
  },
  {
   "cell_type": "code",
   "execution_count": 10,
   "metadata": {
    "collapsed": false
   },
   "outputs": [
    {
     "data": {
      "text/plain": [
       "<matplotlib.axes._subplots.AxesSubplot at 0x7f89a5eff910>"
      ]
     },
     "metadata": {},
     "output_type": "display_data"
    },
    {
     "data": {
      "image/png": "[encoded data removed]",
      "text/plain": [
       "<matplotlib.figure.Figure at 0x7f89a5d52a50>"
      ]
     },
     "metadata": {},
     "output_type": "display_data"
    }
   ],
   "source": [
    "@interact(freq=1.0, \n",
    "          amp=FloatSlider(min=0.5, max=5.0, step=0.1), \n",
    "          color=Select(options=['red', 'green', 'blue'], description='color'))\n",
    "def wave(freq, amp, color):\n",
    "    xs = np.linspace(-np.pi, +np.pi, 200)\n",
    "    ys = np.sin(2*np.pi*freq*xs) * amp\n",
    "    ax = plt.gca()\n",
    "    ax.plot(xs, ys, color=color)\n",
    "    ax.set_ylim([-5., +5.])\n",
    "    return ax"
   ]
  },
  {
   "cell_type": "markdown",
   "metadata": {},
   "source": [
    "Using slider widgets often results in screen flickering (redrawing the plot is slower than just moving a slide).  The `continuous_update=False` argument can be added to the slider to only re-paint upon mouse button release."
   ]
  },
  {
   "cell_type": "code",
   "execution_count": 14,
   "metadata": {
    "collapsed": false
   },
   "outputs": [
    {
     "data": {
      "text/plain": [
       "<matplotlib.axes._subplots.AxesSubplot at 0x7f6f97a4d250>"
      ]
     },
     "metadata": {},
     "output_type": "display_data"
    },
    {
     "data": {
      "image/png": "[encoded data removed]",
      "text/plain": [
       "<matplotlib.figure.Figure at 0x7f6f97b1b7d0>"
      ]
     },
     "metadata": {},
     "output_type": "display_data"
    }
   ],
   "source": [
    "@interact(freq=FloatSlider(min=0.5, max=5.0, step=0.1, continuous_update=False), \n",
    "          amp=FloatSlider(min=0.5, max=5.0, step=0.1, continuous_update=False), \n",
    "          color=Select(options=['red', 'green', 'blue'], description='color'))\n",
    "def wave(freq, amp, color):\n",
    "    xs = np.linspace(-np.pi, +np.pi, 200)\n",
    "    ys = np.sin(2*np.pi*freq*xs) * amp\n",
    "    ax = plt.gca()\n",
    "    ax.plot(xs, ys, color=color)\n",
    "    ax.set_ylim([-5., +5.])\n",
    "    return ax"
   ]
  },
  {
   "cell_type": "markdown",
   "metadata": {},
   "source": [
    "----"
   ]
  },
  {
   "cell_type": "markdown",
   "metadata": {},
   "source": [
    "## 1. Make an interactive plot of the earth surface: viewport is selected using sliders"
   ]
  },
  {
   "cell_type": "code",
   "execution_count": 40,
   "metadata": {
    "collapsed": true
   },
   "outputs": [],
   "source": [
    "import cartopy\n",
    "import cartopy.crs\n",
    "# Create a Cartopy crs for plain  lat-lon projections.\n",
    "plain_crs = cartopy.crs.PlateCarree()"
   ]
  },
  {
   "cell_type": "code",
   "execution_count": 63,
   "metadata": {
    "collapsed": false
   },
   "outputs": [
    {
     "data": {
      "image/png": "[encoded data removed]",
      "text/plain": [
       "<matplotlib.figure.Figure at 0x7f89a1e96ad0>"
      ]
     },
     "metadata": {},
     "output_type": "display_data"
    }
   ],
   "source": [
    "@interact(lonl=IntSlider(min=-180, max=180, step=1, continuous_update=False,description='longitude left'), \\\n",
    "          lonr=IntSlider(min=-180, max=180, step=1, continuous_update=False,description='longitude right' ),\\\n",
    "          latu=IntSlider(min=-90, max=90, step=1, continuous_update=False,description='latitude up'),\\\n",
    "          latd=IntSlider(min=-90, max=90, step=1, continuous_update=False,description='latitude down')\\\n",
    "         )\n",
    "def make_map(lonl,lonr,latu,latd):\n",
    "    ax = plt.subplot(111, projection=plain_crs)\n",
    "    ax.set_extent((lonl, lonr, latu, latd), crs=plain_crs)\n",
    "    ax.gridlines(color='lightgrey', linestyle='-')\n",
    "    ax.coastlines()"
   ]
  },
  {
   "cell_type": "markdown",
   "metadata": {},
   "source": [
    "## 2. Make an interactive plot of average temperatures in NA: month should be selectable"
   ]
  },
  {
   "cell_type": "code",
   "execution_count": 51,
   "metadata": {
    "collapsed": false
   },
   "outputs": [
    {
     "name": "stdout",
     "output_type": "stream",
     "text": [
      "100 rows affected.\n"
     ]
    }
   ],
   "source": [
    "temps= %sql SELECT * FROM natempwilmott LIMIT 100;"
   ]
  },
  {
   "cell_type": "code",
   "execution_count": 50,
   "metadata": {
    "collapsed": false
   },
   "outputs": [
    {
     "data": {
      "image/png": "[encoded data removed]",
      "text/plain": [
       "<matplotlib.figure.Figure at 0x7f899724b690>"
      ]
     },
     "metadata": {},
     "output_type": "display_data"
    }
   ],
   "source": [
    "@interact(month=IntSlider(min=1, max=12,step=1,continuous_update=False), color='blue')\n",
    "def get_average_temp(month):\n",
    "    month_temps= [row[month+2] for row in temps]\n",
    "    sea.barplot(np.array(range(len(month_temps))),np.array([float(t) for t in month_temps]))"
   ]
  },
  {
   "cell_type": "code",
   "execution_count": null,
   "metadata": {
    "collapsed": true
   },
   "outputs": [],
   "source": []
  }
 ],
 "metadata": {
  "kernelspec": {
   "display_name": "Python 2",
   "language": "python",
   "name": "python2"
  },
  "language_info": {
   "codemirror_mode": {
    "name": "ipython",
    "version": 2
   },
   "file_extension": ".py",
   "mimetype": "text/x-python",
   "name": "python",
   "nbconvert_exporter": "python",
   "pygments_lexer": "ipython2",
   "version": "2.7.13"
  },
  "widgets": {
   "state": {
    "aedb50571836461ea83bf82a2ab43933": {
     "views": [
      {
       "cell_index": 26
      }
     ]
    },
    "b4ce9ea74e8948cdbb5afd9684ffbeee": {
     "views": [
      {
       "cell_index": 24
      }
     ]
    },
    "bf7e4bcfc08a440e9f330a0f1504a94d": {
     "views": [
      {
       "cell_index": 35
      }
     ]
    },
    "f6169fecb388446c945598853cf395ca": {
     "views": [
      {
       "cell_index": 32
      }
     ]
    }
   },
   "version": "1.2.0"
  }
 },
 "nbformat": 4,
 "nbformat_minor": 0
}
