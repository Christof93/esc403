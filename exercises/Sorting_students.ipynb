{
 "cells": [
  {
   "cell_type": "markdown",
   "metadata": {
    "collapsed": true
   },
   "source": [
    "#   Big Data\n",
    "## Algorithms: Sorting, Recursion and Data Structures\n",
    "## Victor P. Debattista March 2017\n",
    "\n",
    "\n",
    "We are going to start with a very simple exercise in recursion just to get used to it, then implement a couple of sorting algorithms, one O(n$^2$) and one O(n log n)"
   ]
  },
  {
   "cell_type": "code",
   "execution_count": 23,
   "metadata": {
    "collapsed": false
   },
   "outputs": [],
   "source": [
    "import numpy as np\n",
    "import math\n",
    "import random\n",
    "import time"
   ]
  },
  {
   "cell_type": "markdown",
   "metadata": {},
   "source": [
    "Write a function that computes the n$^{th}$ Fibonacci number if $(F_0,F_1) = (1,1)$.  By definition a Fibonacci number is one such that $F_n = F_{n-1} + F_{n-2}$. You should use recursion to solve this problem, not a loop.\n",
    "Print the first 10 Fibonacci numbers."
   ]
  },
  {
   "cell_type": "code",
   "execution_count": 18,
   "metadata": {
    "collapsed": false
   },
   "outputs": [],
   "source": [
    "def fibon(n):\n",
    "    if (n<2):\n",
    "        return 1\n",
    "    else:\n",
    "        return fibon(n-1)+fibon(n-2)"
   ]
  },
  {
   "cell_type": "code",
   "execution_count": 22,
   "metadata": {
    "collapsed": false
   },
   "outputs": [
    {
     "name": "stdout",
     "output_type": "stream",
     "text": [
      "1\n",
      "1\n",
      "2\n",
      "3\n",
      "5\n",
      "8\n",
      "13\n",
      "21\n",
      "34\n",
      "55\n"
     ]
    }
   ],
   "source": [
    "for i in range(10):\n",
    "    print(fibon(i))"
   ]
  },
  {
   "cell_type": "markdown",
   "metadata": {},
   "source": [
    "Let us start exploring sorting. In the first step we want to create a list of N numbers which we will use as our list for sorting"
   ]
  },
  {
   "cell_type": "code",
   "execution_count": 306,
   "metadata": {
    "collapsed": false
   },
   "outputs": [],
   "source": [
    "nums = random.sample(range(10), 10)\n",
    "nums = list(reversed([9,8,7,6,5,4,3,2,1,0]))"
   ]
  },
  {
   "cell_type": "markdown",
   "metadata": {},
   "source": [
    "Our first sorting algorithm is the insertion sort.  How would you sort the list data into another list, data2, using the insertion sort?  (We want to use a second list so we preserve our original list.  Note that swapping in Python is done easily via tuples:\n",
    "(A,B) = (B,A)\n",
    "with no need for temporary variables.)  Calculate how long this took to run."
   ]
  },
  {
   "cell_type": "code",
   "execution_count": 304,
   "metadata": {
    "collapsed": false
   },
   "outputs": [],
   "source": [
    "def insertion_sort2(arr):\n",
    "    \"\"\"this function uses swapping\"\"\"\n",
    "    s_arr=list(arr)\n",
    "    comps=0\n",
    "    for i in range(0,len(s_arr)):\n",
    "        sorted_bits = range(0,i)\n",
    "        for j in sorted_bits:\n",
    "            comps+=1\n",
    "            if (s_arr[i]<s_arr[j]):\n",
    "                (s_arr[i],s_arr[j])=(s_arr[j],s_arr[i])\n",
    "    print(\"number of comparisons: \",comps)\n",
    "    return s_arr  "
   ]
  },
  {
   "cell_type": "code",
   "execution_count": 305,
   "metadata": {
    "collapsed": true
   },
   "outputs": [],
   "source": [
    "def insertion_sort(arr):\n",
    "    \"\"\"this function uses pop and insert\"\"\"\n",
    "    s_arr=list(arr)\n",
    "    comps=0\n",
    "    for i in range(0,len(s_arr)):\n",
    "        sorted_bits = range(0,i)\n",
    "        for j in sorted_bits:\n",
    "            comps+=1\n",
    "            if (s_arr[i]<s_arr[j]):\n",
    "                move=s_arr.pop(i)\n",
    "                s_arr.insert(j,move)\n",
    "                break\n",
    "    print(\"number of comparisons: \",comps)\n",
    "    return s_arr  "
   ]
  },
  {
   "cell_type": "code",
   "execution_count": 308,
   "metadata": {
    "collapsed": false
   },
   "outputs": [
    {
     "name": "stdout",
     "output_type": "stream",
     "text": [
      "number of comparisons:  9\n",
      "CPU times: user 642 µs, sys: 27 µs, total: 669 µs\n",
      "Wall time: 674 µs\n"
     ]
    },
    {
     "data": {
      "text/plain": [
       "[0, 1, 2, 3, 4, 5, 6, 7, 8, 9]"
      ]
     },
     "execution_count": 308,
     "metadata": {},
     "output_type": "execute_result"
    }
   ],
   "source": [
    "%%time\n",
    "insertion_sort(nums)"
   ]
  },
  {
   "cell_type": "code",
   "execution_count": 288,
   "metadata": {
    "collapsed": false
   },
   "outputs": [
    {
     "data": {
      "text/plain": [
       "[0, 9, 8, 6, 2, 7, 5, 3, 4, 1]"
      ]
     },
     "execution_count": 288,
     "metadata": {},
     "output_type": "execute_result"
    }
   ],
   "source": [
    "nums"
   ]
  },
  {
   "cell_type": "markdown",
   "metadata": {},
   "source": [
    "In the next part we will develop the functionality of a heap.  Write a recursive function that, given a list arr, sifts up element k ensuring that a heap structure is obtained.  The function should return the list back.  Be careful with index of the parent, it must work for both daughter nodes."
   ]
  },
  {
   "cell_type": "code",
   "execution_count": 554,
   "metadata": {
    "collapsed": false
   },
   "outputs": [],
   "source": [
    "def sift_up(arr,k,i=None,verbose=False):\n",
    "    if i==None:\n",
    "        arr.append(k)\n",
    "        i=len(arr)-1\n",
    "\n",
    "    if i==0:\n",
    "        return\n",
    "    \n",
    "    elif i%2==1 and k>arr[int((i-1)/2)]:\n",
    "        (arr[int((i-1)/2)],arr[i])=(arr[i],arr[int((i-1)/2)])\n",
    "        if verbose:\n",
    "            print (\"left\",arr)\n",
    "        sift_up(arr,k,i=int((i-1)/2),verbose=verbose)\n",
    "        \n",
    "    elif i%2!=1 and k>arr[int((i-2)/2)]:\n",
    "        (arr[int((i-2)/2)],arr[i])=(arr[i],arr[int((i-2)/2)])\n",
    "        if verbose:\n",
    "            print(\"right\",arr)\n",
    "        sift_up(arr,k,i=int((i-1)/2),verbose=verbose)\n",
    "    else:\n",
    "        return"
   ]
  },
  {
   "cell_type": "code",
   "execution_count": 557,
   "metadata": {
    "collapsed": false
   },
   "outputs": [
    {
     "name": "stdout",
     "output_type": "stream",
     "text": [
      "left [9, 6, 8, 10, 4, 1, 5, 3]\n",
      "left [9, 10, 8, 6, 4, 1, 5, 3]\n",
      "left [10, 9, 8, 6, 4, 1, 5, 3]\n"
     ]
    },
    {
     "data": {
      "text/plain": [
       "[10, 9, 8, 6, 4, 1, 5, 3]"
      ]
     },
     "execution_count": 557,
     "metadata": {},
     "output_type": "execute_result"
    }
   ],
   "source": [
    "nums=[9,6,8,3,4,1,5]\n",
    "sift_up(nums,10,verbose=True)\n",
    "nums"
   ]
  },
  {
   "cell_type": "markdown",
   "metadata": {},
   "source": [
    "Next write a function that, given a list arr, filled to element k, inserts (pushes) a new element N to it, preserving the heap structure.  So this will need to use your sift function from above."
   ]
  },
  {
   "cell_type": "code",
   "execution_count": null,
   "metadata": {
    "collapsed": false
   },
   "outputs": [],
   "source": [
    "class Heap(list):\n",
    "    def __init__(self,arr=[]):\n",
    "        self.heap=list(arr)\n",
    "        list.__init__(self,arr)\n",
    "    def __repr__(self):\n",
    "        return str(self.heap)\n",
    "    def push(self,num):\n",
    "        sift_up(self.heap,num)\n",
    "    def get_list():\n",
    "        return self.heap"
   ]
  },
  {
   "cell_type": "code",
   "execution_count": 530,
   "metadata": {
    "collapsed": false
   },
   "outputs": [
    {
     "name": "stdout",
     "output_type": "stream",
     "text": [
      "append\n",
      "6\n",
      "False\n",
      "2.5 2.0\n"
     ]
    },
    {
     "data": {
      "text/plain": [
       "[9, 6, 8, 3, 4, 5, 4]"
      ]
     },
     "execution_count": 530,
     "metadata": {},
     "output_type": "execute_result"
    }
   ],
   "source": [
    "h = Heap([9, 6, 8, 3, 4, 5])\n",
    "h.push(4)\n",
    "h"
   ]
  },
  {
   "cell_type": "markdown",
   "metadata": {},
   "source": [
    "With these two functions, given a list of numbers, turn it into a heap by building a function heapify.  This should work by pushing every element of a list onto the heap."
   ]
  },
  {
   "cell_type": "code",
   "execution_count": 531,
   "metadata": {
    "collapsed": true
   },
   "outputs": [],
   "source": [
    "def heapify(arr):\n",
    "    h=Heap()\n",
    "    for elem in arr:\n",
    "        h.push(elem)\n",
    "    return h.heap"
   ]
  },
  {
   "cell_type": "code",
   "execution_count": 536,
   "metadata": {
    "collapsed": false
   },
   "outputs": [
    {
     "name": "stdout",
     "output_type": "stream",
     "text": [
      "terminate\n",
      "left [8, 0]\n",
      "terminate\n",
      "left [8, 6, 5, 0]\n",
      "left [8, 6, 9, 0, 3, 5]\n",
      "right [9, 6, 8, 0, 3, 5]\n",
      "terminate\n",
      "left [9, 6, 8, 2, 3, 5, 7, 0]\n",
      "right [9, 6, 8, 4, 3, 5, 7, 0, 2]\n"
     ]
    },
    {
     "data": {
      "text/plain": [
       "[9, 6, 8, 4, 3, 5, 7, 0, 2, 1]"
      ]
     },
     "execution_count": 536,
     "metadata": {},
     "output_type": "execute_result"
    }
   ],
   "source": [
    "heapify(random.sample(range(10),10))"
   ]
  },
  {
   "cell_type": "markdown",
   "metadata": {
    "collapsed": true
   },
   "source": [
    "Now write a function to sift down for when we pop the maximum value off.  This is a recursive function.  Be careful about having 0 or 1 daughters and that sifting down always involve a swap with the larger of the two daughters if 2 exist."
   ]
  },
  {
   "cell_type": "code",
   "execution_count": null,
   "metadata": {
    "collapsed": true
   },
   "outputs": [],
   "source": []
  },
  {
   "cell_type": "markdown",
   "metadata": {},
   "source": [
    "Now add a function to pop the maximum value.  Remember that when popping the root, it will be replaced by the furthest leaf, which is then sifted down.  Return both the heap and its size."
   ]
  },
  {
   "cell_type": "code",
   "execution_count": null,
   "metadata": {
    "collapsed": true
   },
   "outputs": [],
   "source": []
  },
  {
   "cell_type": "markdown",
   "metadata": {},
   "source": [
    "We have all the building blocks in place for a heap sort, so let's write that next.  We start by creating the heap, then repeatedly popping the heap, placing the popped items at the tail of the list that holds the heap.  I.e. we are going to sort the list in place, needing no extra storage."
   ]
  },
  {
   "cell_type": "code",
   "execution_count": null,
   "metadata": {
    "collapsed": true
   },
   "outputs": [],
   "source": []
  },
  {
   "cell_type": "markdown",
   "metadata": {},
   "source": [
    "Let's now do a bin sort.  Now we're going to be a bit looser with this and directly use some of Python's sorting methods.  Start by writing a simple function that, given a value which is within a given range [lo,hi], finds the bin to place the element into if there are N bins.  If the value is out of range some flag value should be returned."
   ]
  },
  {
   "cell_type": "code",
   "execution_count": null,
   "metadata": {
    "collapsed": true
   },
   "outputs": [],
   "source": []
  },
  {
   "cell_type": "markdown",
   "metadata": {
    "collapsed": true
   },
   "source": [
    "In this final step we do a bin sort.  This is a bit more complicated.  The way to do this is to have a list of lists.  You can directly use Python's .sort method for lists, since this is purely illustrative.  Or you can use your heapsort from before if your code was general enough."
   ]
  },
  {
   "cell_type": "code",
   "execution_count": null,
   "metadata": {
    "collapsed": true
   },
   "outputs": [],
   "source": []
  },
  {
   "cell_type": "markdown",
   "metadata": {
    "collapsed": true
   },
   "source": [
    "Consider the quicksort.  Suppose it is given a sorted list.  If the pivot is always the leftmost value, what happens?  Suggest a solution.  You do not need to code this up."
   ]
  }
 ],
 "metadata": {
  "anaconda-cloud": {},
  "kernelspec": {
   "display_name": "Python 3",
   "language": "python",
   "name": "python3"
  },
  "language_info": {
   "codemirror_mode": {
    "name": "ipython",
    "version": 3
   },
   "file_extension": ".py",
   "mimetype": "text/x-python",
   "name": "python",
   "nbconvert_exporter": "python",
   "pygments_lexer": "ipython3",
   "version": "3.6.0"
  }
 },
 "nbformat": 4,
 "nbformat_minor": 1
}
