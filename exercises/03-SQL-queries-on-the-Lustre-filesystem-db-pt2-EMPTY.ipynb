{
 "cells": [
  {
   "cell_type": "markdown",
   "metadata": {},
   "source": [
    "The ESC403 cluster comes with [Catherine Devlin's `%sql`-magic for IPython][1]; this allows you to run SQL queries from the IPython notebook, and intermix them with Python code.\n",
    "\n",
    "[1]: https://github.com/catherinedevlin/ipython-sql"
   ]
  },
  {
   "cell_type": "markdown",
   "metadata": {},
   "source": [
    "Before we can use the `%sql` syntax, two steps must be taken:\n",
    "\n",
    "* Load the IPython-SQL bridge code"
   ]
  },
  {
   "cell_type": "code",
   "execution_count": 4,
   "metadata": {
    "collapsed": false
   },
   "outputs": [],
   "source": [
    "%load_ext sql\n"
   ]
  },
  {
   "cell_type": "markdown",
   "metadata": {},
   "source": [
    "* Connect to an actual database; this must be the first `%sql` statement (the funny `rmurri@/lustre` syntax is correct and means \"connect to the PostGreSQL DB named `lustre` running on *this* host as user `rmurri`\"  -- please replace `rmurri` with your local user name):"
   ]
  },
  {
   "cell_type": "code",
   "execution_count": 5,
   "metadata": {
    "collapsed": false
   },
   "outputs": [
    {
     "data": {
      "text/plain": [
       "u'Connected: chrble@lustre'"
      ]
     },
     "execution_count": 5,
     "metadata": {},
     "output_type": "execute_result"
    }
   ],
   "source": [
    "%sql postgresql://chrble@/lustre\n"
   ]
  },
  {
   "cell_type": "markdown",
   "metadata": {},
   "source": [
    "Now you can run 1-line SQL queries by prefixing them with `%sql`:"
   ]
  },
  {
   "cell_type": "code",
   "execution_count": 6,
   "metadata": {
    "collapsed": false,
    "scrolled": true
   },
   "outputs": [
    {
     "name": "stdout",
     "output_type": "stream",
     "text": [
      "5 rows affected.\n"
     ]
    },
    {
     "data": {
      "text/html": [
       "<table>\n",
       "    <tr>\n",
       "        <th>usr</th>\n",
       "        <th>grp</th>\n",
       "        <th>atime</th>\n",
       "        <th>mtime</th>\n",
       "        <th>blksize</th>\n",
       "        <th>size</th>\n",
       "        <th>path</th>\n",
       "    </tr>\n",
       "    <tr>\n",
       "        <td>usr356</td>\n",
       "        <td>i5105</td>\n",
       "        <td>1360399005</td>\n",
       "        <td>1368700859</td>\n",
       "        <td>4</td>\n",
       "        <td>2248</td>\n",
       "        <td>/scratch/bioc/usr356/param/ZINC04992888.rtf</td>\n",
       "    </tr>\n",
       "    <tr>\n",
       "        <td>usr356</td>\n",
       "        <td>i5105</td>\n",
       "        <td>1360387170</td>\n",
       "        <td>1368792474</td>\n",
       "        <td>8</td>\n",
       "        <td>6640</td>\n",
       "        <td>/scratch/bioc/usr356/param/ZINC71832434.prm</td>\n",
       "    </tr>\n",
       "    <tr>\n",
       "        <td>usr356</td>\n",
       "        <td>i5105</td>\n",
       "        <td>1360416215</td>\n",
       "        <td>1368785748</td>\n",
       "        <td>8</td>\n",
       "        <td>4480</td>\n",
       "        <td>/scratch/bioc/usr356/param/ZINC71850771.prm</td>\n",
       "    </tr>\n",
       "    <tr>\n",
       "        <td>usr356</td>\n",
       "        <td>i5105</td>\n",
       "        <td>1360404430</td>\n",
       "        <td>1368792486</td>\n",
       "        <td>4</td>\n",
       "        <td>2556</td>\n",
       "        <td>/scratch/bioc/usr356/param/ZINC34729086.rtf</td>\n",
       "    </tr>\n",
       "    <tr>\n",
       "        <td>usr356</td>\n",
       "        <td>i5105</td>\n",
       "        <td>1360420861</td>\n",
       "        <td>1368774402</td>\n",
       "        <td>4</td>\n",
       "        <td>2065</td>\n",
       "        <td>/scratch/bioc/usr356/param/ZINC45891658.rtf</td>\n",
       "    </tr>\n",
       "</table>"
      ],
      "text/plain": [
       "[(u'usr356', u'i5105', 1360399005, 1368700859, 4, 2248L, u'/scratch/bioc/usr356/param/ZINC04992888.rtf'),\n",
       " (u'usr356', u'i5105', 1360387170, 1368792474, 8, 6640L, u'/scratch/bioc/usr356/param/ZINC71832434.prm'),\n",
       " (u'usr356', u'i5105', 1360416215, 1368785748, 8, 4480L, u'/scratch/bioc/usr356/param/ZINC71850771.prm'),\n",
       " (u'usr356', u'i5105', 1360404430, 1368792486, 4, 2556L, u'/scratch/bioc/usr356/param/ZINC34729086.rtf'),\n",
       " (u'usr356', u'i5105', 1360420861, 1368774402, 4, 2065L, u'/scratch/bioc/usr356/param/ZINC45891658.rtf')]"
      ]
     },
     "execution_count": 6,
     "metadata": {},
     "output_type": "execute_result"
    }
   ],
   "source": [
    "%sql select * from lustre limit 5;"
   ]
  },
  {
   "cell_type": "markdown",
   "metadata": {},
   "source": [
    "It is also possible to run multi-line (or multiple) SQL queries by using the `%%sql` syntax instead.  Note that in this case the SQL instructions *must not* be on the same line as the `%%sql` magic marker:"
   ]
  },
  {
   "cell_type": "code",
   "execution_count": null,
   "metadata": {
    "collapsed": false
   },
   "outputs": [],
   "source": [
    "%%sql\n",
    "select count(*) from lustre;\n",
    "select distinct count(usr) from lustre;\n",
    "select distinct count(grp) from lustre;"
   ]
  },
  {
   "cell_type": "markdown",
   "metadata": {},
   "source": [
    "The `%%time` magic prints the time taken to evaluate a cell (which comes handy when doing performance comparisons):"
   ]
  },
  {
   "cell_type": "code",
   "execution_count": 7,
   "metadata": {
    "collapsed": false
   },
   "outputs": [
    {
     "name": "stdout",
     "output_type": "stream",
     "text": [
      "CPU times: user 845 µs, sys: 0 ns, total: 845 µs\n",
      "Wall time: 5.01 s\n"
     ]
    }
   ],
   "source": [
    "%%time\n",
    "\n",
    "import time\n",
    "time.sleep(5)"
   ]
  },
  {
   "cell_type": "markdown",
   "metadata": {},
   "source": [
    "----"
   ]
  },
  {
   "cell_type": "markdown",
   "metadata": {},
   "source": [
    "**Note:** to keep running times low, we will be using table `lustre_sample` throughout, which contains a sample of 5% the rows of the original `lustre` table."
   ]
  },
  {
   "cell_type": "markdown",
   "metadata": {},
   "source": [
    "## 1. Is it possible to convert fields atime and mtime to PostgreSQL's TIMESTAMP type?"
   ]
  },
  {
   "cell_type": "markdown",
   "metadata": {},
   "source": [
    "Yes, it *is* possible to alter a SQL table definition after the table has been created.  Look at the documentation for the [ALTER TABLE](https://www.tutorialspoint.com/sql/sql-alter-command.htm) statement.\n",
    "\n",
    "We shall break this down into steps: (1) create a new table, (2) populate it, then (3) alter the definition and (4) fill the new column with values."
   ]
  },
  {
   "cell_type": "code",
   "execution_count": 21,
   "metadata": {
    "collapsed": false
   },
   "outputs": [
    {
     "name": "stdout",
     "output_type": "stream",
     "text": [
      "(psycopg2.ProgrammingError) relation \"new_table\" already exists\n",
      " [SQL: 'CREATE TABLE new_table(LIKE lustre_sample);']\n"
     ]
    }
   ],
   "source": [
    "# (1) create a new table and populate it\n",
    "%sql CREATE TABLE new_table(LIKE lustre_sample);"
   ]
  },
  {
   "cell_type": "code",
   "execution_count": 22,
   "metadata": {
    "collapsed": false
   },
   "outputs": [
    {
     "name": "stdout",
     "output_type": "stream",
     "text": [
      "1519053 rows affected.\n"
     ]
    },
    {
     "data": {
      "text/plain": [
       "[]"
      ]
     },
     "execution_count": 22,
     "metadata": {},
     "output_type": "execute_result"
    }
   ],
   "source": [
    "# (2) populate it with a copy of the data\n",
    "%sql INSERT INTO new_table SELECT * FROM lustre_sample;"
   ]
  },
  {
   "cell_type": "code",
   "execution_count": 23,
   "metadata": {
    "collapsed": false
   },
   "outputs": [
    {
     "name": "stdout",
     "output_type": "stream",
     "text": [
      "(psycopg2.ProgrammingError) column \"access_time\" of relation \"new_table\" already exists\n",
      " [SQL: 'ALTER TABLE new_table ADD COLUMN access_time timestamp;']\n"
     ]
    }
   ],
   "source": [
    "# (3) alter table definition: add new columns for \"access time\" using the TIMESTAMP type\n",
    "%sql ALTER TABLE new_table ADD COLUMN access_time timestamp;"
   ]
  },
  {
   "cell_type": "code",
   "execution_count": 25,
   "metadata": {
    "collapsed": false
   },
   "outputs": [
    {
     "name": "stdout",
     "output_type": "stream",
     "text": [
      "1519053 rows affected.\n"
     ]
    },
    {
     "data": {
      "text/plain": [
       "[]"
      ]
     },
     "execution_count": 25,
     "metadata": {},
     "output_type": "execute_result"
    }
   ],
   "source": [
    "# (4) populate additional column\n",
    "%sql UPDATE new_table SET access_time = to_timestamp(atime);\n"
   ]
  },
  {
   "cell_type": "markdown",
   "metadata": {},
   "source": [
    "Show some data from the table we created::"
   ]
  },
  {
   "cell_type": "code",
   "execution_count": 26,
   "metadata": {
    "collapsed": false
   },
   "outputs": [
    {
     "name": "stdout",
     "output_type": "stream",
     "text": [
      "5 rows affected.\n"
     ]
    },
    {
     "data": {
      "text/html": [
       "<table>\n",
       "    <tr>\n",
       "        <th>usr</th>\n",
       "        <th>grp</th>\n",
       "        <th>atime</th>\n",
       "        <th>mtime</th>\n",
       "        <th>blksize</th>\n",
       "        <th>size</th>\n",
       "        <th>path</th>\n",
       "        <th>access_time</th>\n",
       "    </tr>\n",
       "    <tr>\n",
       "        <td>usr25</td>\n",
       "        <td>i5105</td>\n",
       "        <td>1382131058</td>\n",
       "        <td>1363059494</td>\n",
       "        <td>880820</td>\n",
       "        <td>901952052</td>\n",
       "        <td>/scratch/bioc/usr25/fegs/b3s/fegscoor/fegs78/coor56.xtc</td>\n",
       "        <td>2013-10-18 21:17:38</td>\n",
       "    </tr>\n",
       "    <tr>\n",
       "        <td>usr25</td>\n",
       "        <td>i5105</td>\n",
       "        <td>1374746779</td>\n",
       "        <td>1374746779</td>\n",
       "        <td>4</td>\n",
       "        <td>111</td>\n",
       "        <td>/scratch/bioc/usr25/mddock/y3ma_059/t1.sh</td>\n",
       "        <td>2013-07-25 10:06:19</td>\n",
       "    </tr>\n",
       "    <tr>\n",
       "        <td>usr25</td>\n",
       "        <td>uzh</td>\n",
       "        <td>1366377914</td>\n",
       "        <td>1178206881</td>\n",
       "        <td>4</td>\n",
       "        <td>2127</td>\n",
       "        <td>/scratch/bioc/usr25/soft/SuiteSparse/CAMD/Doc/docdiff</td>\n",
       "        <td>2013-04-19 13:25:14</td>\n",
       "    </tr>\n",
       "    <tr>\n",
       "        <td>usr25</td>\n",
       "        <td>uzh</td>\n",
       "        <td>1367648149</td>\n",
       "        <td>1362274204</td>\n",
       "        <td>280</td>\n",
       "        <td>283680</td>\n",
       "        <td>/scratch/bioc/usr25/soft/igraph-0.6.5/ltmain.sh</td>\n",
       "        <td>2013-05-04 06:15:49</td>\n",
       "    </tr>\n",
       "    <tr>\n",
       "        <td>usr25</td>\n",
       "        <td>uzh</td>\n",
       "        <td>1367648896</td>\n",
       "        <td>1366376801</td>\n",
       "        <td>4</td>\n",
       "        <td>2217</td>\n",
       "        <td>/scratch/bioc/usr25/soft/Cython-0.19/README.txt</td>\n",
       "        <td>2013-05-04 06:28:16</td>\n",
       "    </tr>\n",
       "</table>"
      ],
      "text/plain": [
       "[(u'usr25', u'i5105', 1382131058, 1363059494, 880820, 901952052L, u'/scratch/bioc/usr25/fegs/b3s/fegscoor/fegs78/coor56.xtc', datetime.datetime(2013, 10, 18, 21, 17, 38)),\n",
       " (u'usr25', u'i5105', 1374746779, 1374746779, 4, 111L, u'/scratch/bioc/usr25/mddock/y3ma_059/t1.sh', datetime.datetime(2013, 7, 25, 10, 6, 19)),\n",
       " (u'usr25', u'uzh', 1366377914, 1178206881, 4, 2127L, u'/scratch/bioc/usr25/soft/SuiteSparse/CAMD/Doc/docdiff', datetime.datetime(2013, 4, 19, 13, 25, 14)),\n",
       " (u'usr25', u'uzh', 1367648149, 1362274204, 280, 283680L, u'/scratch/bioc/usr25/soft/igraph-0.6.5/ltmain.sh', datetime.datetime(2013, 5, 4, 6, 15, 49)),\n",
       " (u'usr25', u'uzh', 1367648896, 1366376801, 4, 2217L, u'/scratch/bioc/usr25/soft/Cython-0.19/README.txt', datetime.datetime(2013, 5, 4, 6, 28, 16))]"
      ]
     },
     "execution_count": 26,
     "metadata": {},
     "output_type": "execute_result"
    }
   ],
   "source": [
    "%sql select * from new_table limit 5;"
   ]
  },
  {
   "cell_type": "markdown",
   "metadata": {},
   "source": [
    "## 2. Can you count the number of files in a given directory?"
   ]
  },
  {
   "cell_type": "markdown",
   "metadata": {},
   "source": [
    "Yes, using SQL's `like` string matching operator, which allows any\n",
    "part of a string to be matched by the `%` character (i.e., just like\n",
    "`*` for file names)::"
   ]
  },
  {
   "cell_type": "code",
   "execution_count": 27,
   "metadata": {
    "collapsed": false
   },
   "outputs": [
    {
     "name": "stdout",
     "output_type": "stream",
     "text": [
      "1 rows affected.\n"
     ]
    },
    {
     "data": {
      "text/html": [
       "<table>\n",
       "    <tr>\n",
       "        <th>count</th>\n",
       "    </tr>\n",
       "    <tr>\n",
       "        <td>310230</td>\n",
       "    </tr>\n",
       "</table>"
      ],
      "text/plain": [
       "[(310230L,)]"
      ]
     },
     "execution_count": 27,
     "metadata": {},
     "output_type": "execute_result"
    }
   ],
   "source": [
    "%sql SELECT count(DISTINCT path) FROM lustre_sample WHERE path LIKE '/scratch/bioc/usr388/VS_AllNow_libo_3WAT/ledock_pose/%';"
   ]
  },
  {
   "cell_type": "markdown",
   "metadata": {},
   "source": [
    "## 3. Can you find the directory that holds the largest number of files? "
   ]
  },
  {
   "cell_type": "code",
   "execution_count": 28,
   "metadata": {
    "collapsed": false
   },
   "outputs": [
    {
     "name": "stdout",
     "output_type": "stream",
     "text": [
      "5 rows affected.\n"
     ]
    },
    {
     "data": {
      "text/html": [
       "<table>\n",
       "    <tr>\n",
       "        <th>count</th>\n",
       "        <th>dir</th>\n",
       "    </tr>\n",
       "    <tr>\n",
       "        <td>310230</td>\n",
       "        <td>/scratch/bioc/usr388/VS_AllNow_libo_3WAT/ledock_pose</td>\n",
       "    </tr>\n",
       "    <tr>\n",
       "        <td>111032</td>\n",
       "        <td>/scratch/bioc/usr356/dock_parent_3P1C_w3</td>\n",
       "    </tr>\n",
       "    <tr>\n",
       "        <td>96952</td>\n",
       "        <td>/scratch/bioc/usr356/pdbqt</td>\n",
       "    </tr>\n",
       "    <tr>\n",
       "        <td>96416</td>\n",
       "        <td>/scratch/bioc/usr356/vina_3P1C_w3</td>\n",
       "    </tr>\n",
       "    <tr>\n",
       "        <td>96291</td>\n",
       "        <td>/scratch/bioc/usr356/vina_3SVH_w3</td>\n",
       "    </tr>\n",
       "</table>"
      ],
      "text/plain": [
       "[(310230L, u'/scratch/bioc/usr388/VS_AllNow_libo_3WAT/ledock_pose'),\n",
       " (111032L, u'/scratch/bioc/usr356/dock_parent_3P1C_w3'),\n",
       " (96952L, u'/scratch/bioc/usr356/pdbqt'),\n",
       " (96416L, u'/scratch/bioc/usr356/vina_3P1C_w3'),\n",
       " (96291L, u'/scratch/bioc/usr356/vina_3SVH_w3')]"
      ]
     },
     "execution_count": 28,
     "metadata": {},
     "output_type": "execute_result"
    }
   ],
   "source": [
    "%sql SELECT count(dir) AS count,dir FROM (SELECT substring(path FROM '(.+)\\/.+\\.pdb') AS dir FROM lustre_sample) AS dirs GROUP BY dir ORDER BY count DESC LIMIT 5;"
   ]
  },
  {
   "cell_type": "markdown",
   "metadata": {},
   "source": [
    "## 4. Can you find the directory tree that holds the largest number of files?"
   ]
  },
  {
   "cell_type": "markdown",
   "metadata": {
    "collapsed": true
   },
   "source": [
    "Yes or no? *(and why?)*"
   ]
  },
  {
   "cell_type": "markdown",
   "metadata": {},
   "source": [
    "Yes, theoretically with nested sets. In practice it would be too complicated."
   ]
  }
 ],
 "metadata": {
  "kernelspec": {
   "display_name": "Python 2",
   "language": "python",
   "name": "python2"
  },
  "language_info": {
   "codemirror_mode": {
    "name": "ipython",
    "version": 2
   },
   "file_extension": ".py",
   "mimetype": "text/x-python",
   "name": "python",
   "nbconvert_exporter": "python",
   "pygments_lexer": "ipython2",
   "version": "2.7.13"
  }
 },
 "nbformat": 4,
 "nbformat_minor": 0
}
